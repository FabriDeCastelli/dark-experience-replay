{
 "cells": [
  {
   "cell_type": "markdown",
   "id": "fdcadf7f",
   "metadata": {},
   "source": [
    "# CIFAR10 DER - Showcase\n",
    "\n",
    "CIFAR10 is a dataset of 60,000 32x32 color images in 10 classes, with 6,000 images per class. There are 50,000 training images and 10,000 test images. In this benchmark we will use CIFAR10 in the CIL and TIL settings."
   ]
  },
  {
   "cell_type": "code",
   "execution_count": 1,
   "id": "70bac585",
   "metadata": {},
   "outputs": [],
   "source": [
    "import warnings\n",
    "import os\n",
    "import sys\n",
    "\n",
    "%load_ext autoreload\n",
    "%autoreload 2\n",
    "\n",
    "warnings.filterwarnings('ignore')\n",
    "current_dir = %pwd\n",
    "\n",
    "parent_dir = os.path.abspath(os.path.join(current_dir, '../'))\n",
    "sys.path.append(parent_dir)\n",
    "\n",
    "import main"
   ]
  },
  {
   "metadata": {},
   "cell_type": "markdown",
   "source": [
    "## Overview\n",
    "\n",
    "In the original paper, the authors test the implementation of the proposed algorithms by training a ResNet-18 on CIFAR10 in the CIL and TIL settings, with 5 epochs. However, for computational time we only show the result for one epoch (which takes about 3 minutes on a chip M2 Pro with 9000 images). The results are on the same line as the ones reported in the paper, with a little decrease (due to the lower number of epochs).\n",
    "\n",
    "Even here, the hyperparameters are fixed to those suggested by the original paper (from their validation)."
   ],
   "id": "8060e6c0dbed5104"
  },
  {
   "cell_type": "markdown",
   "id": "669b9a72",
   "metadata": {},
   "source": [
    "# DER\n",
    "\n",
    "This benchmark is harder than MNIST, so we expect slightly lower performances. "
   ]
  },
  {
   "cell_type": "code",
   "execution_count": 2,
   "id": "initial_id",
   "metadata": {
    "collapsed": true,
    "jupyter": {
     "is_executing": true
    }
   },
   "outputs": [
    {
     "name": "stdout",
     "output_type": "stream",
     "text": [
      "Experience (0) - Training Samples: 9000\n",
      "Experience (1) - Training Samples: 9000\n",
      "Experience (2) - Training Samples: 9000\n",
      "Experience (3) - Training Samples: 9000\n",
      "Experience (4) - Training Samples: 9000\n",
      "Epoch 1/1 - Loss: 1.166968584060669\n",
      " ===  Accuracies - CIL === \n",
      "\n",
      "[[84.7   0.    0.    0.    0.  ]\n",
      " [80.65 70.1   0.    0.    0.  ]\n",
      " [78.85 45.65 74.8   0.    0.  ]\n",
      " [80.2  23.   32.9  84.4   0.  ]\n",
      " [77.35 43.   17.85 22.6  78.1 ]]\n",
      "\n",
      " ===  Accuracies - TIL === \n",
      "\n",
      "[[84.7  52.45 52.1  52.4  46.2 ]\n",
      " [80.65 71.8  52.2  50.4  48.25]\n",
      " [78.85 65.55 74.85 48.45 46.45]\n",
      " [80.2  69.3  75.35 85.25 48.  ]\n",
      " [77.35 66.75 73.95 85.1  78.2 ]]\n",
      "\n",
      "=== Task-IL (TIL) vs Class-IL (CIL) Metrics ===\n",
      "\n",
      "Accuracy - Last Model (CIL): \t 78.10\n",
      "Accuracy - Last Model (TIL): \t 78.20\n",
      "\n",
      "Accuracy - Average (CIL): \t 59.61\n",
      "Accuracy - Average (TIL): \t 76.52\n",
      "\n",
      "Accuracy - Full Stream (CIL): \t 47.78\n",
      "Accuracy - Full Stream (TIL): \t 76.27\n",
      "\n",
      "Forgetting (CIL): \t 38.30\n",
      "Forgetting (TIL): \t 3.36\n",
      "\n",
      "Backward Transfer (CIL): \t -38.30\n",
      "Backward Transfer (TIL): \t -3.36\n",
      "\n",
      "Forward Transfer (CIL): \t -75.26\n",
      "Forward Transfer (TIL): \t -24.99\n",
      "\n"
     ]
    },
    {
     "data": {
      "text/plain": [
       "<src.metric.Metric at 0x10c001610>"
      ]
     },
     "execution_count": 2,
     "metadata": {},
     "output_type": "execute_result"
    }
   ],
   "source": [
    "main.run_experiment(\n",
    "    DATASET='SequentialCIFAR10',\n",
    "    lr=0.03,\n",
    "    alpha=0.3,\n",
    ")\n"
   ]
  },
  {
   "cell_type": "markdown",
   "id": "26597318",
   "metadata": {},
   "source": [
    "# DER++\n",
    "\n",
    "Even here, we achieve a comparable performance with the results reported in the paper."
   ]
  },
  {
   "cell_type": "code",
   "execution_count": 3,
   "id": "720083d3",
   "metadata": {},
   "outputs": [
    {
     "name": "stdout",
     "output_type": "stream",
     "text": [
      "Experience (0) - Training Samples: 9000\n",
      "Experience (1) - Training Samples: 9000\n",
      "Experience (2) - Training Samples: 9000\n",
      "Experience (3) - Training Samples: 9000\n",
      "Experience (4) - Training Samples: 9000\n",
      "Epoch 1/1 - Loss: 1.5061662197113037\n",
      " ===  Accuracies - CIL === \n",
      "\n",
      "[[87.95  0.    0.    0.    0.  ]\n",
      " [85.8  72.05  0.    0.    0.  ]\n",
      " [84.75 55.95 68.4   0.    0.  ]\n",
      " [82.65 56.4  28.05 68.55  0.  ]\n",
      " [80.05 61.75 51.7  46.9  78.35]]\n",
      "\n",
      " ===  Accuracies - TIL === \n",
      "\n",
      "[[87.95 45.7  47.9  55.35 47.2 ]\n",
      " [85.8  73.35 50.7  48.05 59.8 ]\n",
      " [84.75 71.85 77.35 47.15 50.65]\n",
      " [82.65 70.6  71.8  78.7  57.4 ]\n",
      " [80.05 71.6  77.7  86.   83.4 ]]\n",
      "\n",
      "=== Task-IL (TIL) vs Class-IL (CIL) Metrics ===\n",
      "\n",
      "Accuracy - Last Model (CIL): \t 78.35\n",
      "Accuracy - Last Model (TIL): \t 83.40\n",
      "\n",
      "Accuracy - Average (CIL): \t 67.29\n",
      "Accuracy - Average (TIL): \t 78.90\n",
      "\n",
      "Accuracy - Full Stream (CIL): \t 63.75\n",
      "Accuracy - Full Stream (TIL): \t 79.75\n",
      "\n",
      "Forgetting (CIL): \t 14.14\n",
      "Forgetting (TIL): \t 0.50\n",
      "\n",
      "Backward Transfer (CIL): \t -14.14\n",
      "Backward Transfer (TIL): \t -0.50\n",
      "\n",
      "Forward Transfer (CIL): \t -67.29\n",
      "Forward Transfer (TIL): \t -17.05\n",
      "\n"
     ]
    },
    {
     "data": {
      "text/plain": [
       "<src.metric.Metric at 0x11fa3c350>"
      ]
     },
     "execution_count": 3,
     "metadata": {},
     "output_type": "execute_result"
    }
   ],
   "source": [
    "main.run_experiment(\n",
    "    DATASET='SequentialCIFAR10',\n",
    "    lr=0.03,\n",
    "    alpha=0.2,\n",
    "    beta=0.5,\n",
    ")"
   ]
  },
  {
   "metadata": {},
   "cell_type": "code",
   "outputs": [],
   "execution_count": null,
   "source": "",
   "id": "e787ef38d910b404"
  }
 ],
 "metadata": {
  "kernelspec": {
   "display_name": "dark-experience-replay-YCoLj02I-py3.11",
   "language": "python",
   "name": "python3"
  },
  "language_info": {
   "codemirror_mode": {
    "name": "ipython",
    "version": 3
   },
   "file_extension": ".py",
   "mimetype": "text/x-python",
   "name": "python",
   "nbconvert_exporter": "python",
   "pygments_lexer": "ipython3",
   "version": "3.11.3"
  }
 },
 "nbformat": 4,
 "nbformat_minor": 5
}
