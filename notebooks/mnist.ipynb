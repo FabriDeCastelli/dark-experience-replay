{
 "cells": [
  {
   "cell_type": "code",
   "execution_count": 1,
   "id": "70bac585",
   "metadata": {},
   "outputs": [],
   "source": [
    "import warnings\n",
    "import os\n",
    "import sys\n",
    "\n",
    "%load_ext autoreload\n",
    "%autoreload 2\n",
    "\n",
    "warnings.filterwarnings('ignore')\n",
    "current_dir = %pwd\n",
    "\n",
    "parent_dir = os.path.abspath(os.path.join(current_dir, '../'))\n",
    "sys.path.append(parent_dir)\n",
    "\n",
    "import main"
   ]
  },
  {
   "cell_type": "code",
   "execution_count": null,
   "id": "initial_id",
   "metadata": {
    "collapsed": true,
    "jupyter": {
     "is_executing": true
    }
   },
   "outputs": [
    {
     "name": "stdout",
     "output_type": "stream",
     "text": [
      "Experience (0) - Training Samples: 12665\n",
      "Experience (1) - Training Samples: 12089\n",
      "Experience (2) - Training Samples: 11263\n",
      "Experience (3) - Training Samples: 12183\n",
      "Experience (4) - Training Samples: 11800\n",
      "[[0.99905437 0.         0.         0.         0.        ]\n",
      " [0.6179669  0.96425073 0.         0.         0.        ]\n",
      " [0.43687943 0.16748286 0.9850587  0.         0.        ]\n",
      " [0.62647754 0.38001959 0.04589114 0.98992951 0.        ]\n",
      " [0.17399527 0.03770813 0.         0.28449144 0.96722138]]\n",
      "\n",
      "Accuracy: \t 0.97 \n",
      "Average over time: 0.31 \n",
      "Full stream: \t0.29\n",
      "Forgetting: \t0.86 \n",
      "Backward transfer: -0.86 \n",
      "Forward transfer: -0.02 \n",
      "\n"
     ]
    }
   ],
   "source": [
    "result = main.run_experiment(\n",
    "    setting='class-il',\n",
    "    # setting='task-il',\n",
    "    DATASET='SequentialMNIST',\n",
    "    alpha=0.1,\n",
    ")\n",
    "\n",
    "print(result)"
   ]
  },
  {
   "cell_type": "code",
   "execution_count": 4,
   "id": "720083d3",
   "metadata": {},
   "outputs": [
    {
     "name": "stdout",
     "output_type": "stream",
     "text": [
      "Experience (0) - Training Samples: 12665\n",
      "Experience (1) - Training Samples: 12089\n",
      "Experience (2) - Training Samples: 11263\n",
      "Experience (3) - Training Samples: 12183\n",
      "Experience (4) - Training Samples: 11800\n",
      "[[0.99858156 0.50538688 0.52401281 0.47482377 0.66817953]\n",
      " [0.99858156 0.96669931 0.5357524  0.49093656 0.5612708 ]\n",
      " [0.99007092 0.90842311 0.97385272 0.51762336 0.68935956]\n",
      " [0.98723404 0.90842311 0.9375667  0.99496475 0.51185073]\n",
      " [0.99054374 0.92311459 0.92155816 0.99194361 0.96469995]]\n",
      "\n",
      "Accuracy: \t 0.96 \n",
      "Average over time: 0.80 \n",
      "Full stream: \t0.96\n",
      "Forgetting: \t0.03 \n",
      "Backward transfer: -0.03 \n",
      "Forward transfer: -0.04 \n",
      "\n"
     ]
    }
   ],
   "source": [
    "result = main.run_experiment(\n",
    "    # setting='class-il',\n",
    "    setting='task-il',\n",
    "    DATASET='SequentialMNIST',\n",
    "    alpha=0.1,\n",
    ")\n",
    "\n",
    "print(result)"
   ]
  },
  {
   "cell_type": "code",
   "execution_count": null,
   "id": "1be1738c",
   "metadata": {},
   "outputs": [
    {
     "ename": "TypeError",
     "evalue": "super(type, obj): obj must be an instance or subtype of type",
     "output_type": "error",
     "traceback": [
      "\u001b[0;31m---------------------------------------------------------------------------\u001b[0m",
      "\u001b[0;31mTypeError\u001b[0m                                 Traceback (most recent call last)",
      "Cell \u001b[0;32mIn[3], line 1\u001b[0m\n\u001b[0;32m----> 1\u001b[0m result \u001b[38;5;241m=\u001b[39m \u001b[43mmain\u001b[49m\u001b[38;5;241;43m.\u001b[39;49m\u001b[43mrun_experiment\u001b[49m\u001b[43m(\u001b[49m\n\u001b[1;32m      2\u001b[0m \u001b[43m    \u001b[49m\u001b[43msetting\u001b[49m\u001b[38;5;241;43m=\u001b[39;49m\u001b[38;5;124;43m'\u001b[39;49m\u001b[38;5;124;43mdomain-il\u001b[39;49m\u001b[38;5;124;43m'\u001b[39;49m\u001b[43m,\u001b[49m\n\u001b[1;32m      3\u001b[0m \u001b[43m    \u001b[49m\u001b[43mDATASET\u001b[49m\u001b[38;5;241;43m=\u001b[39;49m\u001b[38;5;124;43m'\u001b[39;49m\u001b[38;5;124;43mPermutedMNIST\u001b[39;49m\u001b[38;5;124;43m'\u001b[39;49m\u001b[43m,\u001b[49m\n\u001b[1;32m      4\u001b[0m \u001b[43m    \u001b[49m\u001b[43malpha\u001b[49m\u001b[38;5;241;43m=\u001b[39;49m\u001b[38;5;241;43m1.0\u001b[39;49m\u001b[43m,\u001b[49m\n\u001b[1;32m      5\u001b[0m \u001b[43m    \u001b[49m\u001b[43mlr\u001b[49m\u001b[38;5;241;43m=\u001b[39;49m\u001b[38;5;241;43m0.2\u001b[39;49m\n\u001b[1;32m      6\u001b[0m \u001b[43m)\u001b[49m\n\u001b[1;32m      8\u001b[0m \u001b[38;5;28mprint\u001b[39m(result)\n",
      "File \u001b[0;32m~/Desktop/Magistrale/CL/dark-experience-replay/main.py:21\u001b[0m, in \u001b[0;36mrun_experiment\u001b[0;34m(setting, DATASET, alpha, beta, lr, buffer_size)\u001b[0m\n\u001b[1;32m     18\u001b[0m cl_metrics \u001b[38;5;241m=\u001b[39m metric\u001b[38;5;241m.\u001b[39mMetric(dataset\u001b[38;5;241m.\u001b[39mN_TASKS)\n\u001b[1;32m     19\u001b[0m random_model_results \u001b[38;5;241m=\u001b[39m []\n\u001b[0;32m---> 21\u001b[0m loader_id_pairs \u001b[38;5;241m=\u001b[39m \u001b[43mdataset\u001b[49m\u001b[38;5;241;43m.\u001b[39;49m\u001b[43mget_train_loader\u001b[49m\u001b[43m(\u001b[49m\u001b[43m)\u001b[49m\n\u001b[1;32m     23\u001b[0m \u001b[38;5;28;01mfor\u001b[39;00m train_loader, task_id \u001b[38;5;129;01min\u001b[39;00m loader_id_pairs:\n\u001b[1;32m     24\u001b[0m     \u001b[38;5;28mprint\u001b[39m(\u001b[38;5;124mf\u001b[39m\u001b[38;5;124m\"\u001b[39m\u001b[38;5;124mExperience (\u001b[39m\u001b[38;5;132;01m{\u001b[39;00mtask_id\u001b[38;5;132;01m}\u001b[39;00m\u001b[38;5;124m) - Training Samples: \u001b[39m\u001b[38;5;132;01m{\u001b[39;00m\u001b[38;5;28mlen\u001b[39m(train_loader\u001b[38;5;241m.\u001b[39mdataset)\u001b[38;5;132;01m}\u001b[39;00m\u001b[38;5;124m\"\u001b[39m)\n",
      "File \u001b[0;32m~/Desktop/Magistrale/CL/dark-experience-replay/src/datasets/perm_mnist.py:44\u001b[0m, in \u001b[0;36mPermutedMNIST.get_train_loader\u001b[0;34m(self)\u001b[0m\n\u001b[1;32m     37\u001b[0m transform \u001b[38;5;241m=\u001b[39m transforms\u001b[38;5;241m.\u001b[39mCompose([\n\u001b[1;32m     38\u001b[0m     transforms\u001b[38;5;241m.\u001b[39mToTensor(),\n\u001b[1;32m     39\u001b[0m     random_permutation\n\u001b[1;32m     40\u001b[0m ])\n\u001b[1;32m     42\u001b[0m \u001b[38;5;28;01mfor\u001b[39;00m task_id \u001b[38;5;129;01min\u001b[39;00m \u001b[38;5;28mrange\u001b[39m(\u001b[38;5;28mself\u001b[39m\u001b[38;5;241m.\u001b[39mN_TASKS):\n\u001b[0;32m---> 44\u001b[0m     train_dataset \u001b[38;5;241m=\u001b[39m \u001b[38;5;28;43mself\u001b[39;49m\u001b[38;5;241;43m.\u001b[39;49m\u001b[43mCustomMNIST\u001b[49m\u001b[43m(\u001b[49m\u001b[43mroot\u001b[49m\u001b[38;5;241;43m=\u001b[39;49m\u001b[43mconfig\u001b[49m\u001b[38;5;241;43m.\u001b[39;49m\u001b[43mDATASET_PATH\u001b[49m\u001b[43m,\u001b[49m\u001b[43m \u001b[49m\u001b[43mtrain\u001b[49m\u001b[38;5;241;43m=\u001b[39;49m\u001b[38;5;28;43;01mTrue\u001b[39;49;00m\u001b[43m,\u001b[49m\u001b[43m \u001b[49m\u001b[43mdownload\u001b[49m\u001b[38;5;241;43m=\u001b[39;49m\u001b[38;5;28;43;01mTrue\u001b[39;49;00m\u001b[43m,\u001b[49m\u001b[43m \u001b[49m\u001b[43mtransform\u001b[49m\u001b[38;5;241;43m=\u001b[39;49m\u001b[43mtransform\u001b[49m\u001b[43m)\u001b[49m\n\u001b[1;32m     45\u001b[0m     train_dataloader \u001b[38;5;241m=\u001b[39m DataLoader(train_dataset, batch_size\u001b[38;5;241m=\u001b[39m\u001b[38;5;28mself\u001b[39m\u001b[38;5;241m.\u001b[39mget_batch_size(), shuffle\u001b[38;5;241m=\u001b[39m\u001b[38;5;28;01mTrue\u001b[39;00m)\n\u001b[1;32m     46\u001b[0m     tasks\u001b[38;5;241m.\u001b[39mappend((train_dataloader, task_id))\n",
      "File \u001b[0;32m~/Desktop/Magistrale/CL/dark-experience-replay/src/datasets/perm_mnist.py:24\u001b[0m, in \u001b[0;36mPermutedMNIST.CustomMNIST.__init__\u001b[0;34m(self, *args, **kwargs)\u001b[0m\n\u001b[1;32m     22\u001b[0m \u001b[38;5;28;01mdef\u001b[39;00m\u001b[38;5;250m \u001b[39m\u001b[38;5;21m__init__\u001b[39m(\u001b[38;5;28mself\u001b[39m, \u001b[38;5;241m*\u001b[39margs, \u001b[38;5;241m*\u001b[39m\u001b[38;5;241m*\u001b[39mkwargs):\n\u001b[1;32m     23\u001b[0m     \u001b[38;5;28mself\u001b[39m\u001b[38;5;241m.\u001b[39mnot_aug_transform \u001b[38;5;241m=\u001b[39m transforms\u001b[38;5;241m.\u001b[39mToTensor()\n\u001b[0;32m---> 24\u001b[0m     \u001b[38;5;28;43msuper\u001b[39;49m\u001b[43m(\u001b[49m\u001b[43mPermutedMNIST\u001b[49m\u001b[38;5;241;43m.\u001b[39;49m\u001b[43mCustomMNIST\u001b[49m\u001b[43m,\u001b[49m\u001b[43m \u001b[49m\u001b[38;5;28;43mself\u001b[39;49m\u001b[43m)\u001b[49m\u001b[38;5;241m.\u001b[39m\u001b[38;5;21m__init__\u001b[39m(\u001b[38;5;241m*\u001b[39margs, \u001b[38;5;241m*\u001b[39m\u001b[38;5;241m*\u001b[39mkwargs)\n",
      "\u001b[0;31mTypeError\u001b[0m: super(type, obj): obj must be an instance or subtype of type"
     ]
    }
   ],
   "source": [
    "result = main.run_experiment(\n",
    "    setting='domain-il',\n",
    "    DATASET='PermutedMNIST',\n",
    "    lr=0.2,\n",
    "    alpha=1.0,\n",
    ")\n",
    "\n",
    "print(result)"
   ]
  },
  {
   "cell_type": "code",
   "execution_count": null,
   "id": "ecba0632",
   "metadata": {},
   "outputs": [],
   "source": [
    "\n"
   ]
  }
 ],
 "metadata": {
  "kernelspec": {
   "display_name": "dark-experience-replay-YCoLj02I-py3.11",
   "language": "python",
   "name": "python3"
  },
  "language_info": {
   "codemirror_mode": {
    "name": "ipython",
    "version": 3
   },
   "file_extension": ".py",
   "mimetype": "text/x-python",
   "name": "python",
   "nbconvert_exporter": "python",
   "pygments_lexer": "ipython3",
   "version": "3.11.3"
  }
 },
 "nbformat": 4,
 "nbformat_minor": 5
}
